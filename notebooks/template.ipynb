{
 "cells": [
  {
   "cell_type": "code",
   "execution_count": null,
   "metadata": {},
   "outputs": [],
   "source": [
    "# standard libs\n",
    "import os\n",
    "import sys\n",
    "import logging\n",
    "\n",
    "# project lib\n",
    "PROJECT_SRC_PATH = os.path.join(os.path.abspath(''), '..', 'src')\n",
    "sys.path.append(PROJECT_SRC_PATH)\n",
    "\n",
    "import utils\n",
    "import dataset\n",
    "import visualizations\n",
    "from prediction_age import AgePredictor\n",
    "from preprocessing import *\n",
    "\n",
    "# external libs\n",
    "import numpy as np\n",
    "import pandas as pd\n",
    "\n",
    "import seaborn as sns\n",
    "import matplotlib.pyplot as plt\n",
    "\n",
    "import geopandas as gpd\n",
    "from shapely import wkt\n",
    "\n",
    "import shap\n",
    "\n",
    "from sklearn.linear_model import LinearRegression\n",
    "from sklearn.ensemble import RandomForestRegressor, AdaBoostClassifier\n",
    "from xgboost import XGBRegressor, XGBClassifier, XGBRFClassifier"
   ]
  },
  {
   "cell_type": "code",
   "execution_count": null,
   "metadata": {},
   "outputs": [],
   "source": [
    "logging.basicConfig(format='%(asctime)s | %(levelname)s : %(message)s', level=logging.INFO)"
   ]
  },
  {
   "cell_type": "code",
   "execution_count": null,
   "metadata": {},
   "outputs": [],
   "source": [
    "%load_ext autoreload\n",
    "%autoreload 2"
   ]
  },
  {
   "cell_type": "markdown",
   "metadata": {},
   "source": [
    "## Data"
   ]
  },
  {
   "cell_type": "code",
   "execution_count": null,
   "metadata": {},
   "outputs": [],
   "source": [
    "path_data_france = os.path.join('..', 'data', 'france-cities-200.csv')\n",
    "data_france = pd.read_csv(path_data_france)\n",
    "data_france_sample = data_france.sample(frac=.1)"
   ]
  },
  {
   "cell_type": "code",
   "execution_count": null,
   "metadata": {},
   "outputs": [],
   "source": [
    "path_data_netherlands = os.path.join('..', 'data', 'netherlands-cities-200.csv')\n",
    "data_netherlands = pd.read_csv(path_data_netherlands)\n",
    "data_netherlands_sample = data_netherlands.sample(frac=.1)"
   ]
  },
  {
   "cell_type": "code",
   "execution_count": null,
   "metadata": {},
   "outputs": [],
   "source": [
    "xgb_params_optimal = {\n",
    "    'max_depth': 10,\n",
    "    'learning_rate': 0.1,\n",
    "    'n_estimators': 1000,\n",
    "    'colsample_bytree': 0.5,\n",
    "    'subsample': 1.0,\n",
    "}"
   ]
  },
  {
   "cell_type": "markdown",
   "metadata": {},
   "source": [
    "## Preprocessing"
   ]
  },
  {
   "cell_type": "code",
   "execution_count": null,
   "metadata": {},
   "outputs": [],
   "source": []
  },
  {
   "cell_type": "markdown",
   "metadata": {},
   "source": [
    "## Experiments"
   ]
  },
  {
   "cell_type": "code",
   "execution_count": null,
   "metadata": {},
   "outputs": [],
   "source": [
    "predictor = AgePredictor(\n",
    "    model=XGBRegressor(),\n",
    "    df=data_france_sample,\n",
    "    test_training_split=split_80_20,\n",
    "    preprocessing_stages=[remove_outliers]\n",
    ")\n",
    "predictor.evaluate_regression()"
   ]
  }
 ],
 "metadata": {
  "interpreter": {
   "hash": "502d0e5ce1688b4a0a64419bce71299e5ea7cfcdb089b33bf08b7c629530b2e3"
  },
  "kernelspec": {
   "display_name": "Python 3.8.5 64-bit ('urban-form-ml': conda)",
   "language": "python",
   "name": "python3"
  },
  "language_info": {
   "codemirror_mode": {
    "name": "ipython",
    "version": 3
   },
   "file_extension": ".py",
   "mimetype": "text/x-python",
   "name": "python",
   "nbconvert_exporter": "python",
   "pygments_lexer": "ipython3",
   "version": "3.8.5"
  },
  "orig_nbformat": 4
 },
 "nbformat": 4,
 "nbformat_minor": 2
}
