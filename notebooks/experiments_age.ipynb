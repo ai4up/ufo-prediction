{
 "cells": [
  {
   "cell_type": "code",
   "execution_count": 22,
   "metadata": {},
   "outputs": [],
   "source": [
    "# standard libs\n",
    "import os\n",
    "import sys\n",
    "import importlib\n",
    "\n",
    "# project lib\n",
    "PROJECT_SRC_PATH = os.path.join(os.path.abspath(''), '..', 'src')\n",
    "sys.path.append(PROJECT_SRC_PATH)\n",
    "\n",
    "import preprocessing\n",
    "import prediction_age\n",
    "import visualizations\n",
    "\n",
    "importlib.reload(preprocessing)\n",
    "importlib.reload(prediction_age)\n",
    "importlib.reload(visualizations)\n",
    "\n",
    "from prediction_age import AgePredictor\n",
    "from preprocessing import *\n",
    "\n",
    "# external libs\n",
    "import pandas as pd\n",
    "from sklearn.linear_model import LinearRegression\n",
    "from sklearn.ensemble import RandomForestRegressor, AdaBoostClassifier\n",
    "from xgboost import XGBRegressor, XGBClassifier\n",
    "\n",
    "\n"
   ]
  },
  {
   "cell_type": "markdown",
   "metadata": {},
   "source": [
    "## Data"
   ]
  },
  {
   "cell_type": "code",
   "execution_count": null,
   "metadata": {},
   "outputs": [],
   "source": [
    "path_data_france_age = os.path.join('..', 'data_france', 'all_age.csv')\n",
    "path_data_france_all = os.path.join('..', 'data_france', 'all.csv')\n",
    "\n",
    "data_france_age = pd.read_csv(path_data_france_age)\n",
    "data_france_all = pd.read_csv(path_data_france_all)\n"
   ]
  },
  {
   "cell_type": "code",
   "execution_count": null,
   "metadata": {},
   "outputs": [],
   "source": [
    "data_france_age_sample = data_france_age.sample(frac=.2)\n",
    "data_france_all_sample = data_france_all.sample(frac=.2)"
   ]
  },
  {
   "cell_type": "markdown",
   "metadata": {},
   "source": [
    "## Hyperparameters"
   ]
  },
  {
   "cell_type": "code",
   "execution_count": null,
   "metadata": {},
   "outputs": [],
   "source": [
    "# increases computation time 10x compared to defaults\n",
    "xgb_params_optimal = {\n",
    "    'max_depth': 10,\n",
    "    'learning_rate': 0.1,\n",
    "    'n_estimators': 1000,\n",
    "    'colsample_bytree': 0.5,\n",
    "    'subsample': 1.0,\n",
    "}"
   ]
  },
  {
   "cell_type": "markdown",
   "metadata": {},
   "source": [
    "## Preprocessing"
   ]
  },
  {
   "cell_type": "code",
   "execution_count": null,
   "metadata": {},
   "outputs": [],
   "source": []
  },
  {
   "cell_type": "markdown",
   "metadata": {},
   "source": [
    "## Experiments"
   ]
  },
  {
   "cell_type": "code",
   "execution_count": null,
   "metadata": {},
   "outputs": [],
   "source": [
    "predictor_linear = AgePredictor(\n",
    "    model=LinearRegression(),\n",
    "    df=data_france_age,\n",
    "    test_training_split=split_by_region,\n",
    "    preprocessing_stages=[remove_other_attributes]\n",
    ")\n",
    "predictor_linear.evaluate_regression()"
   ]
  },
  {
   "cell_type": "code",
   "execution_count": null,
   "metadata": {},
   "outputs": [],
   "source": [
    "predictor_rf = AgePredictor(\n",
    "    model=RandomForestRegressor(),\n",
    "    df=data_france_age_sample,\n",
    "    test_training_split=split_80_20,\n",
    "    preprocessing_stages=[remove_other_attributes]\n",
    ")\n",
    "predictor_rf.evaluate_regression()"
   ]
  },
  {
   "cell_type": "code",
   "execution_count": null,
   "metadata": {},
   "outputs": [],
   "source": [
    "predictor_region = AgePredictor(\n",
    "    model=XGBRegressor(),\n",
    "    df=data_france_age_sample,\n",
    "    test_training_split=split_by_region,\n",
    "    preprocessing_stages=[remove_other_attributes]\n",
    ")\n",
    "predictor_region.evaluate_regression()"
   ]
  },
  {
   "cell_type": "code",
   "execution_count": null,
   "metadata": {},
   "outputs": [],
   "source": [
    "predictor_test = AgePredictor(\n",
    "    model=.XGBRegressor(),\n",
    "    df=data_france_age_sample,\n",
    "    test_training_split=split_80_20,\n",
    "    preprocessing_stages=[remove_outliers, remove_other_attributes, add_noise_feature]\n",
    ")\n",
    "predictor_test.evaluate_regression()\n",
    "predictor_test.feature_dependence_plot(\"total_ft_area_within_buffer_100\", \"total_ft_area_within_buffer_500\")\n",
    "predictor_test.feature_dependence_plot(\"feature_noise\", \"feature_noise\")\n"
   ]
  },
  {
   "cell_type": "code",
   "execution_count": null,
   "metadata": {},
   "outputs": [],
   "source": [
    "predictor = AgePredictor(\n",
    "    model=.XGBRegressor(),\n",
    "    df=data_france_age,\n",
    "    test_training_split=split_80_20,\n",
    "    preprocessing_stages=[remove_other_attributes]\n",
    ")\n",
    "predictor.evaluate_regression()"
   ]
  },
  {
   "cell_type": "code",
   "execution_count": null,
   "metadata": {},
   "outputs": [],
   "source": [
    "predictor.SHAP_analysis()"
   ]
  },
  {
   "cell_type": "code",
   "execution_count": null,
   "metadata": {},
   "outputs": [],
   "source": [
    "predictor.neighborhood_feature_importance()\n",
    "predictor.feature_selection()"
   ]
  },
  {
   "cell_type": "code",
   "execution_count": null,
   "metadata": {},
   "outputs": [],
   "source": [
    "# https://slundberg.github.io/shap/notebooks/plots/dependence_plot.html\n",
    "# https://slundberg.github.io/shap/notebooks/plots/decision_plot.html\n",
    "# shap.plots.scatter(ex[:,\"feature_noise\"], color=ex[:,\"feature_noise\"])\n",
    "predictor_test.feature_dependence_plot(\"total_ft_area_within_buffer_100\", \"total_ft_area_within_buffer_500\", transparency=0.1)"
   ]
  },
  {
   "cell_type": "code",
   "execution_count": null,
   "metadata": {},
   "outputs": [],
   "source": [
    "predictor_all_attributes = AgePredictor(\n",
    "    model=.XGBRegressor(),\n",
    "    df=data_france_age,\n",
    "    test_training_split=split_80_20,\n",
    "    preprocessing_stages=[keep_other_attributes]\n",
    ")\n",
    "predictor_all_attributes.evaluate_regression()"
   ]
  },
  {
   "cell_type": "code",
   "execution_count": null,
   "metadata": {},
   "outputs": [],
   "source": [
    "model = .XGBClassifier(objective='multi:softmax', num_class=6, use_label_encoder=False, eval_metric=[\"merror\", \"mlogloss\"])\n",
    "classifier = AgePredictor(\n",
    "    model=model,\n",
    "    df=data_france_age,\n",
    "    test_training_split=split_80_20,\n",
    "    preprocessing_stages=[remove_outliers, remove_other_attributes, categorize_age]\n",
    ")\n",
    "classifier.evaluate_classification()"
   ]
  },
  {
   "cell_type": "code",
   "execution_count": null,
   "metadata": {},
   "outputs": [],
   "source": [
    "visualizations.plot_log_loss(classifier.model)\n",
    "visualizations.plot_classification_error(classifier.model)"
   ]
  },
  {
   "cell_type": "code",
   "execution_count": null,
   "metadata": {},
   "outputs": [],
   "source": [
    "classifier.SHAP_analysis()"
   ]
  },
  {
   "cell_type": "code",
   "execution_count": null,
   "metadata": {},
   "outputs": [],
   "source": [
    "classifier.neighborhood_feature_importance()\n",
    "classifier.feature_selection()"
   ]
  },
  {
   "cell_type": "code",
   "execution_count": 23,
   "metadata": {},
   "outputs": [
    {
     "name": "stderr",
     "output_type": "stream",
     "text": [
      "A column-vector y was passed when a 1d array was expected. Please change the shape of y to (n_samples, ), for example using ravel().\n"
     ]
    },
    {
     "name": "stdout",
     "output_type": "stream",
     "text": [
      "MAE: 1.0008514833736668 y\n",
      "RMSE: 1.4702541944349192 y\n",
      "R2: -0.15905060229343015\n"
     ]
    },
    {
     "name": "stderr",
     "output_type": "stream",
     "text": [
      "`distplot` is a deprecated function and will be removed in a future version. Please adapt your code to use either `displot` (a figure-level function with similar flexibility) or `histplot` (an axes-level function for histograms).\n"
     ]
    },
    {
     "data": {
      "image/png": "[encoded data removed]",
      "text/plain": [
       "<Figure size 720x504 with 1 Axes>"
      ]
     },
     "metadata": {
      "needs_background": "light"
     },
     "output_type": "display_data"
    },
    {
     "name": "stderr",
     "output_type": "stream",
     "text": [
      "Pass the following variables as keyword args: x, y. From version 0.12, the only valid positional argument will be `data`, and passing other arguments without an explicit keyword will result in an error or misinterpretation.\n"
     ]
    },
    {
     "data": {
      "text/plain": [
       "<Figure size 432x288 with 0 Axes>"
      ]
     },
     "metadata": {},
     "output_type": "display_data"
    },
    {
     "data": {
      "image/png": "[encoded data removed]",
      "text/plain": [
       "<Figure size 432x432 with 3 Axes>"
      ]
     },
     "metadata": {
      "needs_background": "light"
     },
     "output_type": "display_data"
    }
   ],
   "source": [
    "classifier_ada = AgePredictor(\n",
    "    model=AdaBoostClassifier(),\n",
    "    df=data_france_age_sample,\n",
    "    test_training_split=split_80_20,\n",
    "    preprocessing_stages=[remove_outliers, remove_other_attributes, categorize_age]\n",
    ")\n",
    "classifier_ada.evaluate_classification()"
   ]
  },
  {
   "cell_type": "markdown",
   "metadata": {},
   "source": [
    "## Hyperparameter Tuning"
   ]
  },
  {
   "cell_type": "code",
   "execution_count": null,
   "metadata": {},
   "outputs": [],
   "source": [
    "predictor = AgePredictor(\n",
    "    model=.XGBRegressor(),\n",
    "    df=data_france_age_sample,\n",
    "    test_training_split=split_80_20,\n",
    "    preprocessing_stages=[remove_other_attributes],\n",
    "    hyperparameter_tuning=True\n",
    ")\n",
    "predictor.evaluate_regression()"
   ]
  },
  {
   "cell_type": "code",
   "execution_count": null,
   "metadata": {},
   "outputs": [],
   "source": [
    "grid_search_results = os.path.join('..', 'notebooks', 'hyperparameter-tuning-results.csv')\n",
    "\n",
    "df_grid_search = pd.read_csv(grid_search_results, sep='\\t')\n",
    "df_grid_search.sort_values(by=['Accuracy'], ascending=False).head(10)"
   ]
  },
  {
   "cell_type": "code",
   "execution_count": null,
   "metadata": {},
   "outputs": [],
   "source": [
    "regr = LinearRegression()\n",
    "y = df_grid_search[['Accuracy']]\n",
    "X = df_grid_search.drop(columns=['Accuracy'])\n",
    "regr.fit(X, y)\n",
    "# np.multiply(regr.coef_[0][:-1],[3.5,0.1,500,0.3,0.3])\n",
    "pd.DataFrame({'feature': df_grid_search.columns[1:],'reg coef': regr.coef_[0]})"
   ]
  }
 ],
 "metadata": {
  "interpreter": {
   "hash": "502d0e5ce1688b4a0a64419bce71299e5ea7cfcdb089b33bf08b7c629530b2e3"
  },
  "kernelspec": {
   "display_name": "Python 3.8.5 64-bit ('urban-form-ml': conda)",
   "language": "python",
   "name": "python3"
  },
  "language_info": {
   "codemirror_mode": {
    "name": "ipython",
    "version": 3
   },
   "file_extension": ".py",
   "mimetype": "text/x-python",
   "name": "python",
   "nbconvert_exporter": "python",
   "pygments_lexer": "ipython3",
   "version": "3.8.5"
  },
  "orig_nbformat": 4
 },
 "nbformat": 4,
 "nbformat_minor": 2
}
