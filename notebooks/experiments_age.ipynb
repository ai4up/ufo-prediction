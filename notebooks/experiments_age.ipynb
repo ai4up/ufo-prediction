{
 "cells": [
  {
   "cell_type": "code",
   "execution_count": 89,
   "metadata": {},
   "outputs": [],
   "source": [
    "import os\n",
    "import importlib\n",
    "import prediction_age\n",
    "importlib.reload(prediction_age)\n",
    "\n",
    "from prediction_age import *\n",
    "\n",
    "import xgboost\n",
    "from sklearn.linear_model import LinearRegression\n",
    "from sklearn.ensemble import RandomForestRegressor\n",
    "\n"
   ]
  },
  {
   "cell_type": "markdown",
   "metadata": {},
   "source": [
    "## Data"
   ]
  },
  {
   "cell_type": "code",
   "execution_count": null,
   "metadata": {},
   "outputs": [],
   "source": [
    "path_data_france_age = os.path.join('..', 'data_france', 'all_age.csv')\n",
    "path_data_france_all = os.path.join('..', 'data_france', 'all.csv')\n",
    "\n",
    "data_france_age = pd.read_csv(path_data_france_age)\n",
    "data_france_all = pd.read_csv(path_data_france_all)\n"
   ]
  },
  {
   "cell_type": "code",
   "execution_count": 85,
   "metadata": {},
   "outputs": [],
   "source": [
    "data_france_age_sample = data_france_age.sample(frac=.5)\n",
    "data_france_all_sample = data_france_all.sample(frac=.5)"
   ]
  },
  {
   "cell_type": "markdown",
   "metadata": {},
   "source": [
    "## Preprocessing"
   ]
  },
  {
   "cell_type": "code",
   "execution_count": null,
   "metadata": {},
   "outputs": [],
   "source": []
  },
  {
   "cell_type": "markdown",
   "metadata": {},
   "source": [
    "## Experiments"
   ]
  },
  {
   "cell_type": "code",
   "execution_count": null,
   "metadata": {},
   "outputs": [],
   "source": [
    "# y_test, y_predict = e2e_regression(\n",
    "#     model=LinearRegression(),\n",
    "#     df=data_france_age,\n",
    "#     func_validation_split=split_by_region,\n",
    "#     funcs_preprocessing=[remove_other_attributes]\n",
    "# )"
   ]
  },
  {
   "cell_type": "code",
   "execution_count": null,
   "metadata": {},
   "outputs": [],
   "source": [
    "y_test, y_predict = e2e_regression(\n",
    "    model=RandomForestRegressor(),\n",
    "    df=data_france_age_sample,\n",
    "    func_validation_split=split_80_20,\n",
    "    funcs_preprocessing=[remove_other_attributes]\n",
    ")"
   ]
  },
  {
   "cell_type": "code",
   "execution_count": null,
   "metadata": {},
   "outputs": [],
   "source": [
    "y_test, y_predict = e2e_regression(\n",
    "    model=xgboost.XGBRegressor(),\n",
    "    df=data_france_age,\n",
    "    func_validation_split=split_by_region,\n",
    "    funcs_preprocessing=[remove_other_attributes]\n",
    ")"
   ]
  },
  {
   "cell_type": "code",
   "execution_count": 90,
   "metadata": {},
   "outputs": [
    {
     "name": "stdout",
     "output_type": "stream",
     "text": [
      "Fitting 5 folds for each of 108 candidates, totalling 540 fits\n"
     ]
    }
   ],
   "source": [
    "y_test, y_predict = e2e_regression(\n",
    "    model=xgboost.XGBRegressor(),\n",
    "    df=data_france_age_sample,\n",
    "    func_validation_split=split_80_20,\n",
    "    funcs_preprocessing=[remove_other_attributes],\n",
    "    hyperparameter_tuning=True\n",
    ")"
   ]
  },
  {
   "cell_type": "code",
   "execution_count": null,
   "metadata": {},
   "outputs": [],
   "source": [
    "y_test, y_predict = e2e_regression(\n",
    "    model=xgboost.XGBRegressor(),\n",
    "    df=data_france_age,\n",
    "    func_validation_split=split_by_region,\n",
    "    funcs_preprocessing=[keep_other_attributes]\n",
    ")"
   ]
  },
  {
   "cell_type": "code",
   "execution_count": null,
   "metadata": {},
   "outputs": [],
   "source": [
    "model = xgboost.XGBClassifier(objective='multi:softmax', num_class=6, use_label_encoder=False, eval_metric=[\"merror\", \"mlogloss\"])\n",
    "y_test, y_predict = e2e_classification(\n",
    "    model=model,\n",
    "    df=data_france_age_sample,\n",
    "    func_validation_split=split_80_20,\n",
    "    funcs_preprocessing=[remove_outliers, remove_other_attributes, categorize_age]\n",
    ")"
   ]
  },
  {
   "cell_type": "code",
   "execution_count": null,
   "metadata": {},
   "outputs": [],
   "source": [
    "plot_log_loss(model)\n",
    "plot_classification_error(model)"
   ]
  }
 ],
 "metadata": {
  "interpreter": {
   "hash": "502d0e5ce1688b4a0a64419bce71299e5ea7cfcdb089b33bf08b7c629530b2e3"
  },
  "kernelspec": {
   "display_name": "Python 3.8.5 64-bit ('urban-form-ml': conda)",
   "language": "python",
   "name": "python3"
  },
  "language_info": {
   "codemirror_mode": {
    "name": "ipython",
    "version": 3
   },
   "file_extension": ".py",
   "mimetype": "text/x-python",
   "name": "python",
   "nbconvert_exporter": "python",
   "pygments_lexer": "ipython3",
   "version": "3.8.5"
  },
  "orig_nbformat": 4
 },
 "nbformat": 4,
 "nbformat_minor": 2
}
