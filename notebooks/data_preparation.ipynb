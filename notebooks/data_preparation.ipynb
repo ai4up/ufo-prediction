{
 "cells": [
  {
   "cell_type": "code",
   "execution_count": 1,
   "metadata": {},
   "outputs": [
    {
     "name": "stderr",
     "output_type": "stream",
     "text": [
      "/usr/local/Caskroom/miniconda/base/envs/uf-ml/lib/python3.8/site-packages/geopandas/_compat.py:106: UserWarning: The Shapely GEOS version (3.9.1-CAPI-1.14.2) is incompatible with the GEOS version PyGEOS was compiled with (3.10.1-CAPI-1.16.0). Conversions between both will be slow.\n",
      "  warnings.warn(\n"
     ]
    }
   ],
   "source": [
    "# standard libs\n",
    "import os\n",
    "import sys\n",
    "import logging\n",
    "\n",
    "# project lib\n",
    "PROJECT_SRC_PATH = os.path.join(os.path.abspath(''), '..', 'src')\n",
    "sys.path.append(PROJECT_SRC_PATH)\n",
    "\n",
    "import utils\n",
    "import dataset\n",
    "import preparation\n",
    "from preprocessing import *\n",
    "\n",
    "# external libs\n",
    "import numpy as np\n",
    "import pandas as pd"
   ]
  },
  {
   "cell_type": "code",
   "execution_count": 2,
   "metadata": {},
   "outputs": [],
   "source": [
    "logging.basicConfig(format='%(asctime)s | %(levelname)s : %(message)s', level=logging.INFO)"
   ]
  },
  {
   "cell_type": "code",
   "execution_count": 3,
   "metadata": {},
   "outputs": [],
   "source": [
    "%load_ext autoreload\n",
    "%autoreload 2"
   ]
  },
  {
   "cell_type": "markdown",
   "metadata": {},
   "source": [
    "## Data"
   ]
  },
  {
   "cell_type": "code",
   "execution_count": 5,
   "metadata": {},
   "outputs": [],
   "source": [
    "path_data_france = os.path.join('..', 'data', 'france-cities-200.csv')\n",
    "data_france = pd.read_csv(path_data_france)"
   ]
  },
  {
   "cell_type": "code",
   "execution_count": 6,
   "metadata": {},
   "outputs": [],
   "source": [
    "path_data_netherlands = os.path.join('..', 'data', 'netherlands-cities-200.csv')\n",
    "data_netherlands = pd.read_csv(path_data_netherlands)"
   ]
  },
  {
   "cell_type": "markdown",
   "metadata": {},
   "source": [
    "## Preparation"
   ]
  },
  {
   "cell_type": "code",
   "execution_count": 7,
   "metadata": {},
   "outputs": [
    {
     "name": "stderr",
     "output_type": "stream",
     "text": [
      "2022-03-21 17:57:53,842 | WARNING : Spatial joining resulted in duplicate buildings in dataset. Most likely street polygons were overlapping and buildings were assigned to more than one during gpd.sjoin().\n",
      "2022-03-21 17:57:53,843 | INFO : Removing duplicated buildings, keeping only first one.\n",
      "2022-03-21 17:59:21,132 | WARNING : Spatial joining resulted in duplicate buildings in dataset. Most likely street polygons were overlapping and buildings were assigned to more than one during gpd.sjoin().\n",
      "2022-03-21 17:59:21,133 | INFO : Removing duplicated buildings, keeping only first one.\n"
     ]
    }
   ],
   "source": [
    "data_netherlands_prepared = preparation.prepare(data_netherlands)\n",
    "data_france_prepared = preparation.prepare(data_france)\n",
    "\n",
    "data_netherlands_prepared['country'] = 'netherlands'\n",
    "data_france_prepared['country'] = 'france'"
   ]
  },
  {
   "cell_type": "code",
   "execution_count": 5,
   "metadata": {},
   "outputs": [],
   "source": [
    "path_data_netherlands_prepared_geom = os.path.join('..', 'data', 'prepared', 'netherlands-cities-200-geom.csv')\n",
    "path_data_france_prepared_geom = os.path.join('..', 'data', 'prepared', 'france-cities-200-geom.csv')\n",
    "\n",
    "data_netherlands_prepared = pd.read_csv(path_data_netherlands_prepared_geom)\n",
    "data_france_prepared = pd.read_csv(path_data_france_prepared_geom)\n"
   ]
  },
  {
   "cell_type": "code",
   "execution_count": 6,
   "metadata": {},
   "outputs": [],
   "source": [
    "path_data_netherlands_prepared = os.path.join('..', 'data', 'prepared', 'netherlands-cities-200.csv')\n",
    "path_data_france_prepared = os.path.join('..', 'data', 'prepared', 'france-cities-200.csv')\n",
    "\n",
    "data_netherlands_prepared.drop(columns=['geometry']).to_csv(path_data_netherlands_prepared, encoding='utf-8', index=False)\n",
    "data_france_prepared.drop(columns=['geometry']).to_csv(path_data_france_prepared, encoding='utf-8', index=False)"
   ]
  },
  {
   "cell_type": "code",
   "execution_count": null,
   "metadata": {},
   "outputs": [],
   "source": [
    "path_data_netherlands_prepared = os.path.join('..', 'data', 'prepared', 'netherlands-cities-200.csv')\n",
    "path_data_netherlands_prepared_geom = os.path.join('..', 'data', 'prepared', 'netherlands-cities-200-geom.csv')\n",
    "path_data_france_prepared = os.path.join('..', 'data', 'prepared', 'france-cities-200.csv')\n",
    "path_data_france_prepared_geom = os.path.join('..', 'data', 'prepared', 'france-cities-200-geom.csv')\n",
    "\n",
    "data_netherlands_prepared[['id', 'geometry']].to_csv(path_data_netherlands_prepared_geom, encoding='utf-8', index=False)\n",
    "data_france_prepared[['id', 'geometry']].to_csv(path_data_france_prepared_geom, encoding='utf-8', index=False)\n",
    "data_netherlands_prepared.drop(columns=['geometry']).to_csv(path_data_netherlands_prepared, encoding='utf-8', index=False)\n",
    "data_france_prepared.drop(columns=['geometry']).to_csv(path_data_france_prepared, encoding='utf-8', index=False)"
   ]
  },
  {
   "cell_type": "code",
   "execution_count": null,
   "metadata": {},
   "outputs": [],
   "source": [
    "# gdf_nl.drop(columns=['block_bld_ids', 'sbb_bld_ids'], inplace=True)\n",
    "# gdf_nl_sample.drop(columns=['block_bld_ids', 'sbb_bld_ids'], inplace=True)\n",
    "# path_data_netherlands_prepared = os.path.join('..', 'data', 'prepared', 'netherlands-cities-200.csv')\n",
    "# gdf_nl.drop(columns=['geometry']).to_csv(path_data_netherlands_prepared, encoding='utf-8', index=False)"
   ]
  },
  {
   "cell_type": "code",
   "execution_count": null,
   "metadata": {},
   "outputs": [],
   "source": []
  }
 ],
 "metadata": {
  "interpreter": {
   "hash": "502d0e5ce1688b4a0a64419bce71299e5ea7cfcdb089b33bf08b7c629530b2e3"
  },
  "kernelspec": {
   "display_name": "Python 3.8.5 64-bit ('urban-form-ml': conda)",
   "language": "python",
   "name": "python3"
  },
  "language_info": {
   "codemirror_mode": {
    "name": "ipython",
    "version": 3
   },
   "file_extension": ".py",
   "mimetype": "text/x-python",
   "name": "python",
   "nbconvert_exporter": "python",
   "pygments_lexer": "ipython3",
   "version": "3.8.12"
  },
  "orig_nbformat": 4
 },
 "nbformat": 4,
 "nbformat_minor": 2
}
